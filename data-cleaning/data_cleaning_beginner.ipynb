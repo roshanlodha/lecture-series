{
 "cells": [
  {
   "cell_type": "code",
   "execution_count": null,
   "metadata": {
    "colab": {},
    "colab_type": "code",
    "id": "bANKR9B1DkDZ"
   },
   "outputs": [],
   "source": [
    "import pandas as pd"
   ]
  },
  {
   "cell_type": "code",
   "execution_count": null,
   "metadata": {
    "colab": {},
    "colab_type": "code",
    "id": "XjAb0275DkEN",
    "outputId": "6368b32c-7645-498f-91fe-05f2a80f4711"
   },
   "outputs": [],
   "source": [
    "college = pd.read_csv('salaries-by-college-type.csv')\n",
    "college"
   ]
  },
  {
   "cell_type": "code",
   "execution_count": null,
   "metadata": {
    "colab": {},
    "colab_type": "code",
    "id": "7SS_1z1PDkE9",
    "outputId": "3305b4b2-0680-48da-faa1-b497e50bb12b"
   },
   "outputs": [],
   "source": [
    "college.head(10)"
   ]
  },
  {
   "cell_type": "code",
   "execution_count": null,
   "metadata": {
    "colab": {},
    "colab_type": "code",
    "id": "CnHQ3IaXDkFf",
    "outputId": "75cd3fa1-fa8e-4817-c1a3-db7e3ccf4079"
   },
   "outputs": [],
   "source": [
    "college.tail()"
   ]
  },
  {
   "cell_type": "code",
   "execution_count": null,
   "metadata": {
    "colab": {},
    "colab_type": "code",
    "id": "90XGJsgxDkF5",
    "outputId": "20eeab84-c834-416e-e928-cff9c87517bc"
   },
   "outputs": [],
   "source": [
    "college.shape"
   ]
  },
  {
   "cell_type": "code",
   "execution_count": null,
   "metadata": {
    "colab": {},
    "colab_type": "code",
    "id": "ogeO5h_hDkGO",
    "outputId": "3a5d8c70-45a8-4b5d-c8a3-1ec8b7e60607"
   },
   "outputs": [],
   "source": [
    "region = pd.read_csv('salaries-by-region.csv')\n",
    "region.head()"
   ]
  },
  {
   "cell_type": "code",
   "execution_count": null,
   "metadata": {
    "colab": {},
    "colab_type": "code",
    "id": "Bw___ETiDkGm",
    "outputId": "65fd8673-0c9a-4f0e-f9f3-ff0ef7fa0be8"
   },
   "outputs": [],
   "source": [
    "region.shape"
   ]
  },
  {
   "cell_type": "code",
   "execution_count": null,
   "metadata": {
    "colab": {},
    "colab_type": "code",
    "id": "QjK_ODdaDkG6",
    "outputId": "b6cd0c42-d3c0-4be3-8917-40ff46b89613"
   },
   "outputs": [],
   "source": [
    "college['School Name'] # returns a Series -- a wrapper around a Numpy Array; it works basically the same as a Numpy array"
   ]
  },
  {
   "cell_type": "code",
   "execution_count": null,
   "metadata": {
    "colab": {},
    "colab_type": "code",
    "id": "NEgPBe-SDkHQ",
    "outputId": "85be382b-80b6-4a41-e872-782c61f45ea8"
   },
   "outputs": [],
   "source": [
    "college[college['School Name'].str.contains('University of California')]\n",
    "# choose the indices (rows) from college where the 'School Name' contains the string 'University of California'"
   ]
  },
  {
   "cell_type": "code",
   "execution_count": null,
   "metadata": {
    "colab": {},
    "colab_type": "code",
    "id": "yLmJpPspDkHr",
    "outputId": "2c1a3f37-0aa7-4c35-8afc-0e1e61e7c845"
   },
   "outputs": [],
   "source": [
    "cols = [\"School Name\", \"Starting Median Salary\", \"Mid-Career Median Salary\", \"Mid-Career 10th Percentile Salary\", \"Mid-Career 25th Percentile Salary\", \"Mid-Career 75th Percentile Salary\", \"Mid-Career 90th Percentile Salary\"]\n",
    "combined = college.merge(region, how='outer', on=cols) # merge region with college with an \"outer\"/full joins on the attributes (columns) of variable cols\n",
    "california = combined[combined['Region'] == 'California'] # from combined, take the indices where the 'Region' is 'California'\n",
    "california"
   ]
  },
  {
   "cell_type": "code",
   "execution_count": null,
   "metadata": {
    "colab": {},
    "colab_type": "code",
    "id": "szmzVBS3DkH8",
    "outputId": "e65fe60f-7f71-4e2c-96e8-ad202ab1cdcd"
   },
   "outputs": [],
   "source": [
    "california.loc[113] # choose the row with the index 113; return the index in the form of a Series"
   ]
  },
  {
   "cell_type": "code",
   "execution_count": null,
   "metadata": {
    "colab": {},
    "colab_type": "code",
    "id": "Zl-IqHRsDkIM",
    "outputId": "40619f29-f816-40e9-f832-f0995984d3fc"
   },
   "outputs": [],
   "source": [
    "california.iloc[7] # choose the 7th row (0 indexed like Python); return the index in the form of a Series"
   ]
  },
  {
   "cell_type": "code",
   "execution_count": null,
   "metadata": {
    "colab": {},
    "colab_type": "code",
    "id": "GvOAmnYlDkIg",
    "outputId": "85b78801-f228-4400-c454-9fe3d5dc3021"
   },
   "outputs": [],
   "source": [
    "california[california['School Type'].isnull()] # take all the indices where the 'School Type' is a null value"
   ]
  },
  {
   "cell_type": "code",
   "execution_count": null,
   "metadata": {
    "colab": {},
    "colab_type": "code",
    "id": "GB5ki60UDkIs",
    "outputId": "9c128129-ccce-4fa0-ecdc-e5fb4e9a5592"
   },
   "outputs": [],
   "source": [
    "zero_waste_2020_california = california.dropna(subset=cols, axis=0) \n",
    "# clean the data in a very bad way by dropping all the indices that have a NaN in any of the attributes of the variable cols\n",
    "zero_waste_2020_california"
   ]
  },
  {
   "cell_type": "code",
   "execution_count": null,
   "metadata": {
    "colab": {},
    "colab_type": "code",
    "id": "_vNDZYO8DkI0",
    "outputId": "7781aaff-7139-4f3d-9d56-ad037940f9f9"
   },
   "outputs": [],
   "source": [
    "zero_waste_2020_california.plot.bar(x='School Name', y='Starting Median Salary') # why doesn't this work?"
   ]
  },
  {
   "cell_type": "code",
   "execution_count": null,
   "metadata": {
    "colab": {},
    "colab_type": "code",
    "id": "yjKd96UUDkI6",
    "outputId": "886f7a9f-6600-4a96-f1f4-f7f284ffb0c1"
   },
   "outputs": [],
   "source": [
    "zero_waste_2020_california['Starting Median Salary'] = zero_waste_2020_california['Starting Median Salary'].str.replace(r\"\\$|,\", \"\").astype(float)\n",
    "# reassign the attribute 'Starting Median Salary' to this right hand side\n",
    "# right hand side: take this Series, for each item, replace any dollar signs or commas with nothing; then turn the item into a float"
   ]
  },
  {
   "cell_type": "code",
   "execution_count": null,
   "metadata": {
    "colab": {},
    "colab_type": "code",
    "id": "dQfPXw4tDkI-",
    "outputId": "64497637-69fc-46d3-b0df-076fbd056ec7"
   },
   "outputs": [],
   "source": [
    "import seaborn as sns\n",
    "import matplotlib.pyplot as plt\n",
    "\n",
    "# Default plot configurations\n",
    "%matplotlib inline\n",
    "plt.rcParams['figure.figsize'] = (16,8)\n",
    "plt.rcParams['figure.dpi'] = 150\n",
    "sns.set()\n",
    "\n",
    "from IPython.display import display, Latex, Markdown\n",
    "plt.xticks(rotation=270) \n",
    "sns.barplot(x='School Name', y='Starting Median Salary', data=zero_waste_2020_california);"
   ]
  },
  {
   "cell_type": "code",
   "execution_count": null,
   "metadata": {
    "colab": {},
    "colab_type": "code",
    "id": "KOX_S4q5DkJJ",
    "outputId": "1357ec49-059b-436e-ccd6-1d5f00059710"
   },
   "outputs": [],
   "source": [
    "go_bears = zero_waste_2020_california.drop(269)\n",
    "plt.xticks(rotation=270) \n",
    "sns.barplot(x='School Name', y='Starting Median Salary', data=go_bears);"
   ]
  },
  {
   "cell_type": "code",
   "execution_count": null,
   "metadata": {
    "colab": {},
    "colab_type": "code",
    "id": "Rifm5jM7DkJR"
   },
   "outputs": [],
   "source": [
    "# Good job getting through this document!\n",
    "# There's plenty of other ways to clean and visualize the data, so try plotting or looking at different attributes :)\n",
    "# Ask your mentors questions if you are confused!\n",
    "# -Vincent Lao"
   ]
  }
 ],
 "metadata": {
  "colab": {
   "name": "DATA+CLEANING+NOTEBOOK.ipynb",
   "provenance": [],
   "version": "0.3.2"
  },
  "kernelspec": {
   "display_name": "Python 3",
   "language": "python",
   "name": "python3"
  },
  "language_info": {
   "codemirror_mode": {
    "name": "ipython",
    "version": 3
   },
   "file_extension": ".py",
   "mimetype": "text/x-python",
   "name": "python",
   "nbconvert_exporter": "python",
   "pygments_lexer": "ipython3",
   "version": "3.7.1"
  }
 },
 "nbformat": 4,
 "nbformat_minor": 1
}
